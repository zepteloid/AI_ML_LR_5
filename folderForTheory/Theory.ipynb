{
 "cells": [
  {
   "cell_type": "code",
   "execution_count": 150,
   "id": "1eebee4b-bd5f-45c0-9509-e48bd4e46e16",
   "metadata": {},
   "outputs": [
    {
     "name": "stdout",
     "output_type": "stream",
     "text": [
      "     Имя  Возраст   Город\n",
      "0   Анна       25  Москва\n",
      "1   Иван       30     СПб\n",
      "2  Ольга       22  Казань\n"
     ]
    }
   ],
   "source": [
    "import pandas as pd\n",
    "import numpy as np\n",
    "import sqlite3\n",
    "from IPython.display import display\n",
    "\n",
    "data = {\n",
    "    \"Имя\" : [\"Анна\",\"Иван\",\"Ольга\"],\n",
    "    \"Возраст\" : [25, 30, 22],\n",
    "    \"Город\" : [\"Москва\", \"СПб\", \"Казань\"]\n",
    "}\n",
    "\n",
    "df = pd.DataFrame(data)\n",
    "print(df)"
   ]
  },
  {
   "cell_type": "code",
   "execution_count": 4,
   "id": "900d872f-4730-430a-9cc1-c90dfccb3cd9",
   "metadata": {},
   "outputs": [
    {
     "name": "stdout",
     "output_type": "stream",
     "text": [
      "   Возраст   Город\n",
      "a       25  Москва\n",
      "b       30     СПб\n",
      "c       22  Казань\n"
     ]
    }
   ],
   "source": [
    "ages = pd.Series([25, 30, 22], index=[\"a\", \"b\", \"c\"])\n",
    "cities = pd.Series([\"Москва\", \"СПб\", \"Казань\"], index=[\"a\", \"b\", \"c\"])\n",
    "df = pd.DataFrame({\"Возраст\": ages, \"Город\": cities})\n",
    "print(df)"
   ]
  },
  {
   "cell_type": "code",
   "execution_count": 8,
   "id": "84c8c6a0-6df5-4474-8443-92f6904317d5",
   "metadata": {},
   "outputs": [
    {
     "name": "stdout",
     "output_type": "stream",
     "text": [
      "     Имя  Возраст   Город\n",
      "0   Анна       25  Москва\n",
      "1   Иван       30     СПб\n",
      "2  Ольга       22  Казань\n"
     ]
    }
   ],
   "source": [
    "data = [\n",
    "    [\"Анна\", 25, \"Москва\"],\n",
    "    [\"Иван\", 30, \"СПб\"],\n",
    "    [\"Ольга\", 22, \"Казань\"]\n",
    "]\n",
    "df = pd.DataFrame(data, columns=[\"Имя\", \"Возраст\", \"Город\"])\n",
    "print(df)"
   ]
  },
  {
   "cell_type": "code",
   "execution_count": 10,
   "id": "bc3c7a3f-c284-485d-9a12-90b186f07612",
   "metadata": {},
   "outputs": [
    {
     "name": "stdout",
     "output_type": "stream",
     "text": [
      "     Имя  Возраст   Город\n",
      "0   Анна       25  Москва\n",
      "1   Иван       30     NaN\n",
      "2  Ольга       22  Казань\n"
     ]
    }
   ],
   "source": [
    "data = [\n",
    "    {\"Имя\": \"Анна\", \"Возраст\": 25, \"Город\": \"Москва\"},\n",
    "    {\"Имя\": \"Иван\", \"Возраст\": 30}, # \"Город\" пропущен\n",
    "    {\"Имя\": \"Ольга\", \"Возраст\": 22, \"Город\": \"Казань\"}\n",
    "]\n",
    "df = pd.DataFrame(data)\n",
    "print(df)"
   ]
  },
  {
   "cell_type": "code",
   "execution_count": 14,
   "id": "d71eb00f-baef-4dc4-a277-b14783a87f81",
   "metadata": {},
   "outputs": [
    {
     "name": "stdout",
     "output_type": "stream",
     "text": [
      "     Имя Возраст   Город\n",
      "0   Анна      25  Москва\n",
      "1   Иван      30     СПб\n",
      "2  Ольга      22  Казань\n"
     ]
    }
   ],
   "source": [
    "data = np.array([\n",
    "[\"Анна\", 25, \"Москва\"],\n",
    "[\"Иван\", 30, \"СПб\"],\n",
    "[\"Ольга\", 22, \"Казань\"]\n",
    "])\n",
    "df = pd.DataFrame(data, columns=[\"Имя\", \"Возраст\", \"Город\"])\n",
    "print(df)"
   ]
  },
  {
   "cell_type": "code",
   "execution_count": 18,
   "id": "a238c26b-19fc-40ea-9f79-ad8e7508924a",
   "metadata": {},
   "outputs": [
    {
     "name": "stdout",
     "output_type": "stream",
     "text": [
      "Empty DataFrame\n",
      "Columns: [Имя, Возраст, Город]\n",
      "Index: []\n",
      "    Имя  Возраст   Город\n",
      "0  Анна       25  Москва\n",
      "1  Иван       30     СПб\n"
     ]
    }
   ],
   "source": [
    "df = pd.DataFrame(columns=[\"Имя\", \"Возраст\", \"Город\"])\n",
    "print(df)\n",
    "df.loc[0] = [\"Анна\", 25, \"Москва\"]\n",
    "df.loc[1] = [\"Иван\", 30, \"СПб\"]\n",
    "print(df)"
   ]
  },
  {
   "cell_type": "code",
   "execution_count": 35,
   "id": "0ddc77bb-63bb-4366-8529-0c57db41523a",
   "metadata": {},
   "outputs": [
    {
     "name": "stdout",
     "output_type": "stream",
     "text": [
      "Файл data.csv успешно создан!\n",
      "Empty DataFrame\n",
      "Columns: []\n",
      "Index: [Алексей,25,Москва, Мария,30,Санкт-Петербург, Иван,22,Казань]\n"
     ]
    }
   ],
   "source": [
    "import pandas as pd\n",
    "\n",
    "# Создаём DataFrame (таблицу)\n",
    "data = {\n",
    "    \"Имя\": [\"Алексей\", \"Мария\", \"Иван\"],\n",
    "    \"Возраст\": [25, 30, 22],\n",
    "    \"Город\": [\"Москва\", \"Санкт-Петербург\", \"Казань\"]\n",
    "}\n",
    "\n",
    "df = pd.DataFrame(data)\n",
    "\n",
    "# Сохраняем в CSV\n",
    "df.to_csv(\"data.csv\", index=False, encoding=\"utf-8\")  # index=False убирает нумерацию строк\n",
    "print(\"Файл data.csv успешно создан!\")\n",
    "\n",
    "df = pd.read_csv(\"data.csv\", sep=\";\", index_col=0, na_values=[\"?\",\"N/A\"])\n",
    "print(df.head())"
   ]
  },
  {
   "cell_type": "code",
   "execution_count": 45,
   "id": "2e816efa-d2c5-4b1c-82d8-e4b7cef44026",
   "metadata": {},
   "outputs": [
    {
     "name": "stdout",
     "output_type": "stream",
     "text": [
      "Файл data.xlsx успешно создан!\n",
      "       Имя  Возраст            Город\n",
      "0  Алексей       25           Москва\n",
      "1    Мария       30  Санкт-Петербург\n",
      "2     Иван       22           Казань\n"
     ]
    }
   ],
   "source": [
    "import pandas as pd\n",
    "\n",
    "# Создаём DataFrame\n",
    "data = {\n",
    "    \"Имя\": [\"Алексей\", \"Мария\", \"Иван\"],\n",
    "    \"Возраст\": [25, 30, 22],\n",
    "    \"Город\": [\"Москва\", \"Санкт-Петербург\", \"Казань\"]\n",
    "}\n",
    "\n",
    "df = pd.DataFrame(data)\n",
    "\n",
    "# Сохраняем в Excel\n",
    "df.to_excel(\"data.xlsx\", index=False, sheet_name=\"Люди\")  # index=False убирает нумерацию строк\n",
    "print(\"Файл data.xlsx успешно создан!\")\n",
    "\n",
    "df = pd.read_excel(\"data.xlsx\", sheet_name=\"Люди\")\n",
    "print(df)"
   ]
  },
  {
   "cell_type": "code",
   "execution_count": 53,
   "id": "01aaf54f-0cec-4527-96e2-cab553c86a77",
   "metadata": {},
   "outputs": [
    {
     "name": "stdout",
     "output_type": "stream",
     "text": [
      "Данные из таблицы users:\n",
      "   id     name  age          email\n",
      "0   1  Алексей   25   alex@mail.ru\n",
      "1   2    Мария   30  maria@mail.ru\n",
      "2   3     Иван   22   ivan@mail.ru\n",
      "3   4    Ольга   28   olga@mail.ru\n"
     ]
    }
   ],
   "source": [
    "import sqlite3\n",
    "import pandas as pd\n",
    "\n",
    "# 1. Создаём и подключаемся к базе данных (файл database.db)\n",
    "conn = sqlite3.connect(\"database.db\")\n",
    "cursor = conn.cursor()\n",
    "\n",
    "# 2. Создаём таблицу users (если её нет)\n",
    "cursor.execute(\"\"\"\n",
    "CREATE TABLE IF NOT EXISTS users (\n",
    "    id INTEGER PRIMARY KEY,\n",
    "    name TEXT NOT NULL,\n",
    "    age INTEGER,\n",
    "    email TEXT UNIQUE\n",
    ")\n",
    "\"\"\")\n",
    "\n",
    "# 3. Заполняем таблицу тестовыми данными\n",
    "users_data = [\n",
    "    (1, \"Алексей\", 25, \"alex@mail.ru\"),\n",
    "    (2, \"Мария\", 30, \"maria@mail.ru\"),\n",
    "    (3, \"Иван\", 22, \"ivan@mail.ru\"),\n",
    "    (4, \"Ольга\", 28, \"olga@mail.ru\")\n",
    "]\n",
    "\n",
    "# Добавляем данные (игнорируем дубликаты из-за UNIQUE)\n",
    "cursor.executemany(\"\"\"\n",
    "INSERT OR IGNORE INTO users (id, name, age, email) \n",
    "VALUES (?, ?, ?, ?)\n",
    "\"\"\", users_data)\n",
    "\n",
    "# Сохраняем изменения\n",
    "conn.commit()\n",
    "\n",
    "# 4. Читаем данные с помощью Pandas\n",
    "query = \"SELECT * FROM users\"\n",
    "df = pd.read_sql(query, conn)\n",
    "\n",
    "# 5. Закрываем соединение\n",
    "conn.close()\n",
    "\n",
    "# 6. Выводим результат\n",
    "print(\"Данные из таблицы users:\")\n",
    "print(df)"
   ]
  },
  {
   "cell_type": "code",
   "execution_count": 56,
   "id": "00419e27-fc0a-48d8-9561-6d549343fa44",
   "metadata": {},
   "outputs": [
    {
     "name": "stdout",
     "output_type": "stream",
     "text": [
      "Файл data.json успешно создан!\n",
      "\n",
      "Данные из data.json:\n",
      "   id     name  age          email\n",
      "0   1  Алексей   25   alex@mail.ru\n",
      "1   2    Мария   30  maria@mail.ru\n",
      "2   3     Иван   22   ivan@mail.ru\n",
      "3   4    Ольга   28   olga@mail.ru\n"
     ]
    }
   ],
   "source": [
    "import json\n",
    "import pandas as pd\n",
    "\n",
    "# 1. Создаём тестовые данные (список словарей)\n",
    "users_data = [\n",
    "    {\"id\": 1, \"name\": \"Алексей\", \"age\": 25, \"email\": \"alex@mail.ru\"},\n",
    "    {\"id\": 2, \"name\": \"Мария\", \"age\": 30, \"email\": \"maria@mail.ru\"},\n",
    "    {\"id\": 3, \"name\": \"Иван\", \"age\": 22, \"email\": \"ivan@mail.ru\"},\n",
    "    {\"id\": 4, \"name\": \"Ольга\", \"age\": 28, \"email\": \"olga@mail.ru\"}\n",
    "]\n",
    "\n",
    "# 2. Сохраняем данные в JSON-файл\n",
    "with open(\"data.json\", \"w\", encoding=\"utf-8\") as file:\n",
    "    json.dump(users_data, file, ensure_ascii=False, indent=4)  # indent для красивого форматирования\n",
    "\n",
    "print(\"Файл data.json успешно создан!\")\n",
    "\n",
    "# 3. Читаем JSON-файл в DataFrame\n",
    "df = pd.read_json(\"data.json\")\n",
    "\n",
    "# 4. Выводим результат\n",
    "print(\"\\nДанные из data.json:\")\n",
    "print(df)"
   ]
  },
  {
   "cell_type": "code",
   "execution_count": 59,
   "id": "81a2c5b8-4902-4b50-9574-adeb42a691d5",
   "metadata": {},
   "outputs": [
    {
     "name": "stdout",
     "output_type": "stream",
     "text": [
      "Файл data.parquet успешно создан!\n",
      "\n",
      "Данные из data.parquet:\n",
      "   id     name  age          email\n",
      "0   1  Алексей   25   alex@mail.ru\n",
      "1   2    Мария   30  maria@mail.ru\n",
      "2   3     Иван   22   ivan@mail.ru\n",
      "3   4    Ольга   28   olga@mail.ru\n"
     ]
    }
   ],
   "source": [
    "import pandas as pd\n",
    "import pyarrow as pa\n",
    "import pyarrow.parquet as pq\n",
    "\n",
    "# 1. Создаём тестовые данные\n",
    "data = {\n",
    "    \"id\": [1, 2, 3, 4],\n",
    "    \"name\": [\"Алексей\", \"Мария\", \"Иван\", \"Ольга\"],\n",
    "    \"age\": [25, 30, 22, 28],\n",
    "    \"email\": [\"alex@mail.ru\", \"maria@mail.ru\", \"ivan@mail.ru\", \"olga@mail.ru\"]\n",
    "}\n",
    "\n",
    "# 2. Создаём DataFrame\n",
    "df = pd.DataFrame(data)\n",
    "\n",
    "# 3. Сохраняем в Parquet (вариант 1 - через pyarrow)\n",
    "table = pa.Table.from_pandas(df)\n",
    "pq.write_table(table, 'data.parquet')\n",
    "\n",
    "print(\"Файл data.parquet успешно создан!\")\n",
    "\n",
    "# 4. Читаем Parquet-файл\n",
    "parquet_df = pd.read_parquet('data.parquet')\n",
    "\n",
    "# 5. Выводим результат\n",
    "print(\"\\nДанные из data.parquet:\")\n",
    "print(parquet_df)"
   ]
  },
  {
   "cell_type": "code",
   "execution_count": 68,
   "id": "88f24d47-d74f-47da-99f4-92306fc61d48",
   "metadata": {},
   "outputs": [
    {
     "name": "stdout",
     "output_type": "stream",
     "text": [
      "     Имя  Возраст   Город\n",
      "0   Анна       25  Москва\n",
      "1   Иван       30     СПб\n",
      "2  Ольга       22  Казань\n",
      "      Имя  Возраст         Город\n",
      "3    Петр       40   Новосибирск\n",
      "4   Мария       35  Екатеринбург\n",
      "5  Сергей       28          Сочи\n",
      "<class 'pandas.core.frame.DataFrame'>\n",
      "RangeIndex: 6 entries, 0 to 5\n",
      "Data columns (total 3 columns):\n",
      " #   Column   Non-Null Count  Dtype \n",
      "---  ------   --------------  ----- \n",
      " 0   Имя      6 non-null      object\n",
      " 1   Возраст  6 non-null      int64 \n",
      " 2   Город    6 non-null      object\n",
      "dtypes: int64(1), object(2)\n",
      "memory usage: 276.0+ bytes\n",
      "None\n"
     ]
    }
   ],
   "source": [
    "import pandas as pd\n",
    "# Создадим небольшой DataFrame\n",
    "data = {\n",
    "\"Имя\": [\"Анна\", \"Иван\", \"Ольга\", \"Петр\", \"Мария\", \"Сергей\"],\n",
    "\"Возраст\": [25, 30, 22, 40, 35, 28],\n",
    "\"Город\": [\"Москва\", \"СПб\", \"Казань\", \"Новосибирск\",\n",
    "\"Екатеринбург\", \"Сочи\"]\n",
    "}\n",
    "df = pd.DataFrame(data)\n",
    "# Выведем первые 3 строки\n",
    "print(df.head(3))\n",
    "\n",
    "# Выведем последние 3 строки\n",
    "print(df.tail(3))\n",
    "\n",
    "print(df.info())"
   ]
  },
  {
   "cell_type": "code",
   "execution_count": 82,
   "id": "974f1b80-4aaa-44ef-9ae1-0a0995308de3",
   "metadata": {},
   "outputs": [
    {
     "name": "stdout",
     "output_type": "stream",
     "text": [
      "     Имя  Возраст        Город\n",
      "a   Анна       25       Москва\n",
      "b   Иван       30          СПб\n",
      "c  Ольга       22       Казань\n",
      "d   Петр       40  Новосибирск\n",
      "Имя        Иван\n",
      "Возраст      30\n",
      "Город       СПб\n",
      "Name: b, dtype: object\n",
      "Казань\n",
      "Имя        Иван\n",
      "Возраст      30\n",
      "Город       СПб\n",
      "Name: b, dtype: object\n",
      "     Имя  Возраст   Город\n",
      "b   Иван       30     СПб\n",
      "c  Ольга       22  Казань\n",
      "Казань\n",
      "Казань\n"
     ]
    }
   ],
   "source": [
    "data = {\n",
    "\"Имя\": [\"Анна\", \"Иван\", \"Ольга\", \"Петр\"],\n",
    "\"Возраст\": [25, 30, 22, 40],\n",
    "\"Город\": [\"Москва\", \"СПб\", \"Казань\", \"Новосибирск\"]\n",
    "}\n",
    "df = pd.DataFrame(data, index=[\"a\", \"b\", \"c\", \"d\"])\n",
    "print(df)\n",
    "print(df.loc[\"b\"])\n",
    "print(df.loc[\"c\", \"Город\"])\n",
    "\n",
    "print(df.iloc[1])\n",
    "print(df.iloc[1:3])\n",
    "\n",
    "print(df.at[\"c\", \"Город\"])\n",
    "print(df.iat[2, 2])"
   ]
  },
  {
   "cell_type": "code",
   "execution_count": 96,
   "id": "8abba7ee-304e-46e6-8189-2f1a57f4474b",
   "metadata": {},
   "outputs": [
    {
     "name": "stdout",
     "output_type": "stream",
     "text": [
      "     Имя  Возраст\n",
      "0   Анна       25\n",
      "1   Иван       30\n",
      "2  Ольга       22\n",
      "     Имя  Возраст   Город\n",
      "0   Анна       25  Москва\n",
      "1   Иван       30     СПб\n",
      "2  Ольга       22  Казань\n",
      "     Имя  Возраст   Город Категория возраста\n",
      "0   Анна       25  Москва            Молодой\n",
      "1   Иван       30     СПб           Взрослый\n",
      "2  Ольга       22  Казань            Молодой\n",
      "     Имя  Возраст        Город Категория возраста\n",
      "0   Анна       25       Москва            Молодой\n",
      "1   Иван       30          СПб           Взрослый\n",
      "2  Ольга       22       Казань            Молодой\n",
      "3   Петр       40  Новосибирск             Россия\n",
      "       Имя  Возраст        Город Категория возраста  Страна\n",
      "0     Анна       25       Москва            Молодой     NaN\n",
      "1     Иван       30          СПб           Взрослый     NaN\n",
      "2    Ольга       22       Казань            Молодой     NaN\n",
      "3     Петр       40  Новосибирск             Россия     NaN\n",
      "4  Алексей       29        Томск                NaN  Россия\n"
     ]
    }
   ],
   "source": [
    "data = {\n",
    "\"Имя\": [\"Анна\", \"Иван\", \"Ольга\"],\n",
    "\"Возраст\": [25, 30, 22]\n",
    "}\n",
    "print(pd.DataFrame(data))\n",
    "df = pd.DataFrame(data)\n",
    "df[\"Город\"] = [\"Москва\", \"СПб\", \"Казань\"] # Добавляем новый столбец\n",
    "print(df)\n",
    "\n",
    "df[\"Категория возраста\"] = df[\"Возраст\"].apply(lambda x: \"Молодой\" if\n",
    "x < 30 else \"Взрослый\")\n",
    "print(df)\n",
    "\n",
    "df.loc[3] = [\"Петр\", 40, \"Новосибирск\", \"Россия\"]\n",
    "print(df)\n",
    "\n",
    "new_data = pd.DataFrame([{\"Имя\": \"Алексей\", \"Возраст\": 29, \"Город\":\n",
    "\"Томск\", \"Страна\": \"Россия\"}])\n",
    "df = pd.concat([df, new_data], ignore_index=True)\n",
    "print(df)"
   ]
  },
  {
   "cell_type": "code",
   "execution_count": 104,
   "id": "30c13e26-a3ff-4a65-a4bf-1249f4215851",
   "metadata": {},
   "outputs": [
    {
     "name": "stdout",
     "output_type": "stream",
     "text": [
      "        Имя  Возраст        Город Категория возраста  Страна\n",
      "0      Анна       25       Москва            Молодой     NaN\n",
      "1      Иван       30          СПб           Взрослый     NaN\n",
      "2     Ольга       22       Казань            Молодой     NaN\n",
      "3      Петр       40  Новосибирск             Россия     NaN\n",
      "4   Алексей       29        Томск                NaN  Россия\n",
      "5   Дмитрий       31       Самара                NaN  Россия\n",
      "6     Елена       27      Воронеж                NaN  Россия\n",
      "7   Дмитрий       31       Самара                NaN  Россия\n",
      "8     Елена       27      Воронеж                NaN  Россия\n",
      "9   Дмитрий       31       Самара                NaN  Россия\n",
      "10    Елена       27      Воронеж                NaN  Россия\n"
     ]
    }
   ],
   "source": [
    "new_rows = pd.DataFrame([\n",
    "    {\"Имя\": \"Дмитрий\", \"Возраст\": 31, \"Город\": \"Самара\", \"Страна\":\n",
    "\"Россия\"},\n",
    "{\"Имя\": \"Елена\", \"Возраст\": 27, \"Город\": \"Воронеж\", \"Страна\":\n",
    "\"Россия\"}\n",
    "])\n",
    "df = pd.concat([df, new_rows], ignore_index=True)\n",
    "print(df)\n"
   ]
  },
  {
   "cell_type": "code",
   "execution_count": 108,
   "id": "8f5fad55-7d1d-4ccc-abf1-0a0affa01be0",
   "metadata": {},
   "outputs": [
    {
     "name": "stdout",
     "output_type": "stream",
     "text": [
      "     Имя  Возраст   Город\n",
      "0   Анна       25  Москва\n",
      "1   Иван       30     СПб\n",
      "2  Ольга       22  Казань\n",
      "     Имя  Возраст   Город\n",
      "0   Анна       25  Москва\n",
      "2  Ольга       22  Казань\n"
     ]
    }
   ],
   "source": [
    "data = {\n",
    "\"Имя\": [\"Анна\", \"Иван\", \"Ольга\"],\n",
    "\"Возраст\": [25, 30, 22],\n",
    "\"Город\": [\"Москва\", \"СПб\", \"Казань\"],\n",
    "\"Зарплата\": [50000, 60000, 45000]\n",
    "}\n",
    "df = pd.DataFrame(data)\n",
    "# Удаляем столбец \"Зарплата\"\n",
    "df = df.drop(columns=[\"Зарплата\"])\n",
    "print(df)\n",
    "\n",
    "df = df.drop(index=1)\n",
    "print(df)"
   ]
  },
  {
   "cell_type": "code",
   "execution_count": 110,
   "id": "8816cbea-e3ca-4f7a-860b-e76740bf6d94",
   "metadata": {},
   "outputs": [
    {
     "name": "stdout",
     "output_type": "stream",
     "text": [
      "     Имя  Возраст\n",
      "0   Анна       25\n",
      "1   Иван       30\n",
      "3  Ольга       22\n"
     ]
    }
   ],
   "source": [
    "df = pd.DataFrame({\n",
    "\"Имя\": [\"Анна\", \"Иван\", \"Анна\", \"Ольга\"],\n",
    "\"Возраст\": [25, 30, 25, 22]\n",
    "})\n",
    "df = df.drop_duplicates()\n",
    "print(df)"
   ]
  },
  {
   "cell_type": "code",
   "execution_count": 120,
   "id": "f3bba86f-9e19-4f32-9957-e2aaabe8396a",
   "metadata": {},
   "outputs": [
    {
     "name": "stdout",
     "output_type": "stream",
     "text": [
      "Фильтрация\n",
      "     Имя  Возраст        Город  Зарплата\n",
      "0   Анна       25       Москва     50000\n",
      "1   Иван       30          СПб     60000\n",
      "2  Ольга       22       Казань     45000\n",
      "3   Петр       40  Новосибирск     70000\n",
      "4  Мария       35          СПб     65000\n",
      "     Имя  Возраст        Город  Зарплата\n",
      "3   Петр       40  Новосибирск     70000\n",
      "4  Мария       35          СПб     65000\n",
      "     Имя  Возраст Город  Зарплата\n",
      "4  Мария       35   СПб     65000\n"
     ]
    }
   ],
   "source": [
    "print(\"Фильтрация\")\n",
    "data = {\n",
    "\"Имя\": [\"Анна\", \"Иван\", \"Ольга\", \"Петр\", \"Мария\"],\n",
    "\"Возраст\": [25, 30, 22, 40, 35],\n",
    "\"Город\": [\"Москва\", \"СПб\", \"Казань\", \"Новосибирск\", \"СПб\"],\n",
    "\"Зарплата\": [50000, 60000, 45000, 70000, 65000]\n",
    "}\n",
    "df = pd.DataFrame(data)\n",
    "print(df)\n",
    "\n",
    "df_filtered = df.query(\"Возраст > 30\")\n",
    "print(df_filtered)\n",
    "\n",
    "df_filtered = df.query(\"Город == 'СПб' and Зарплата > 60000\")\n",
    "print(df_filtered)"
   ]
  },
  {
   "cell_type": "code",
   "execution_count": 126,
   "id": "654a7255-4dc5-4e7e-ac94-ee7552f9bab7",
   "metadata": {},
   "outputs": [
    {
     "name": "stdout",
     "output_type": "stream",
     "text": [
      "     Имя  Возраст        Город  Зарплата\n",
      "0   Анна       25       Москва     50000\n",
      "1   Иван       30          СПб     60000\n",
      "2  Ольга       22       Казань     45000\n",
      "3   Петр       40  Новосибирск     70000\n",
      "4  Мария       35          СПб     65000\n",
      "     Имя  Возраст        Город  Зарплата\n",
      "2  Ольга       22       Казань     45000\n",
      "3   Петр       40  Новосибирск     70000\n",
      "     Имя  Возраст   Город  Зарплата\n",
      "0   Анна       25  Москва     50000\n",
      "1   Иван       30     СПб     60000\n",
      "4  Мария       35     СПб     65000\n"
     ]
    }
   ],
   "source": [
    "data = {\n",
    "\"Имя\": [\"Анна\", \"Иван\", \"Ольга\", \"Петр\", \"Мария\"],\n",
    "\"Возраст\": [25, 30, 22, 40, 35],\n",
    "\"Город\": [\"Москва\", \"СПб\", \"Казань\", \"Новосибирск\", \"СПб\"],\n",
    "\"Зарплата\": [50000, 60000, 45000, 70000, 65000]\n",
    "}\n",
    "df = pd.DataFrame(data)\n",
    "print(df)\n",
    "\n",
    "df_filtered = df[~df[\"Город\"].isin([\"Москва\", \"СПб\"])]\n",
    "print(df_filtered)\n",
    "\n",
    "df_filtered = df[df[\"Возраст\"].between(25, 35)]\n",
    "print(df_filtered)"
   ]
  },
  {
   "cell_type": "code",
   "execution_count": 136,
   "id": "fc4f9047-601a-40d8-9afc-0c2ad21e16b2",
   "metadata": {},
   "outputs": [
    {
     "name": "stdout",
     "output_type": "stream",
     "text": [
      "Имя        4\n",
      "Возраст    4\n",
      "Город      5\n",
      "dtype: int64\n",
      "Город\n",
      "СПб            2\n",
      "Москва         1\n",
      "Казань         1\n",
      "Новосибирск    1\n",
      "Name: count, dtype: int64\n",
      "Имя\n",
      "Анна     1\n",
      "Иван     1\n",
      "Ольга    1\n",
      "Петр     1\n",
      "None     1\n",
      "Name: count, dtype: int64\n",
      "Имя        4\n",
      "Возраст    4\n",
      "Город      4\n",
      "dtype: int64\n",
      "5\n"
     ]
    }
   ],
   "source": [
    "data = {\n",
    "    \"Имя\": [\"Анна\", \"Иван\", \"Ольга\", \"Петр\", None],\n",
    "    \"Возраст\": [25, 30, 22, None, 35],\n",
    "    \"Город\": [\"Москва\", \"СПб\", \"Казань\", \"Новосибирск\", \"СПб\"]\n",
    "}\n",
    "df = pd.DataFrame(data)\n",
    "print(df.count())\n",
    "\n",
    "print(df[\"Город\"].value_counts())\n",
    "\n",
    "print(df[\"Имя\"].value_counts(dropna=False))\n",
    "\n",
    "print(df.nunique())\n",
    "\n",
    "print(df[\"Имя\"].nunique(dropna=False))"
   ]
  },
  {
   "cell_type": "code",
   "execution_count": 140,
   "id": "ec58b02d-0814-4b7d-ad30-0205ddf03c9f",
   "metadata": {},
   "outputs": [
    {
     "name": "stdout",
     "output_type": "stream",
     "text": [
      "     Имя  Возраст  Зарплата\n",
      "0   Анна       25     50000\n",
      "1   Иван       30     60000\n",
      "2  Ольга       22     45000\n",
      "3   Петр       40     70000\n",
      "4  Мария       35     65000\n",
      "     Имя  Возраст  Зарплата\n",
      "2  Ольга       22     45000\n",
      "0   Анна       25     50000\n",
      "1   Иван       30     60000\n",
      "4  Мария       35     65000\n",
      "3   Петр       40     70000\n"
     ]
    }
   ],
   "source": [
    "data = {\n",
    "\"Имя\": [\"Анна\", \"Иван\", \"Ольга\", \"Петр\", \"Мария\"],\n",
    "\"Возраст\": [25, 30, 22, 40, 35],\n",
    "\"Зарплата\": [50000, 60000, 45000, 70000, 65000]\n",
    "}\n",
    "df = pd.DataFrame(data)\n",
    "print(df)\n",
    "\n",
    "df_sorted = df.sort_values(by=\"Возраст\")\n",
    "print(df_sorted)"
   ]
  },
  {
   "cell_type": "code",
   "execution_count": 142,
   "id": "f8e3a514-4868-484f-9e92-f2e26018d812",
   "metadata": {},
   "outputs": [
    {
     "name": "stdout",
     "output_type": "stream",
     "text": [
      "     Имя  Возраст  Зарплата\n",
      "3   Петр       40     70000\n",
      "4  Мария       35     65000\n",
      "1   Иван       30     60000\n",
      "0   Анна       25     50000\n",
      "2  Ольга       22     45000\n"
     ]
    }
   ],
   "source": [
    "df_sorted = df.sort_values(by=\"Возраст\", ascending=False)\n",
    "print(df_sorted)"
   ]
  },
  {
   "cell_type": "code",
   "execution_count": 144,
   "id": "c8e96a7b-b3e9-4a3f-91dc-972ffbb4be51",
   "metadata": {},
   "outputs": [
    {
     "name": "stdout",
     "output_type": "stream",
     "text": [
      "     Имя  Возраст  Зарплата\n",
      "2  Ольга       22     45000\n",
      "0   Анна       25     50000\n",
      "1   Иван       30     60000\n",
      "4  Мария       35     65000\n",
      "3   Петр       40     70000\n"
     ]
    }
   ],
   "source": [
    "df_sorted = df.sort_values(by=[\"Возраст\", \"Зарплата\"], ascending=\n",
    "[True, False])\n",
    "print(df_sorted)"
   ]
  },
  {
   "cell_type": "code",
   "execution_count": 146,
   "id": "c87d66ff-3430-4c23-bbb2-b8d2df5e3372",
   "metadata": {},
   "outputs": [
    {
     "name": "stdout",
     "output_type": "stream",
     "text": [
      "     Имя  Возраст  Зарплата\n",
      "0   Анна       25     50000\n",
      "1   Иван       30     60000\n",
      "2  Ольга       22     45000\n",
      "3   Петр       40     70000\n",
      "4  Мария       35     65000\n"
     ]
    }
   ],
   "source": [
    "df_sorted = df.sort_index()\n",
    "print(df_sorted)"
   ]
  },
  {
   "cell_type": "code",
   "execution_count": 148,
   "id": "9a9a6fee-bcc1-49d2-813c-e174b63acfe7",
   "metadata": {},
   "outputs": [
    {
     "name": "stdout",
     "output_type": "stream",
     "text": [
      "     Имя  Возраст  Зарплата\n",
      "4  Мария       35     65000\n",
      "3   Петр       40     70000\n",
      "2  Ольга       22     45000\n",
      "1   Иван       30     60000\n",
      "0   Анна       25     50000\n"
     ]
    }
   ],
   "source": [
    "df_sorted = df.sort_index(ascending=False)\n",
    "print(df_sorted)"
   ]
  },
  {
   "cell_type": "code",
   "execution_count": 152,
   "id": "a9e09e0e-5f75-4644-8fe3-3382fee0e1d9",
   "metadata": {},
   "outputs": [
    {
     "data": {
      "text/html": [
       "<div>\n",
       "<style scoped>\n",
       "    .dataframe tbody tr th:only-of-type {\n",
       "        vertical-align: middle;\n",
       "    }\n",
       "\n",
       "    .dataframe tbody tr th {\n",
       "        vertical-align: top;\n",
       "    }\n",
       "\n",
       "    .dataframe thead th {\n",
       "        text-align: right;\n",
       "    }\n",
       "</style>\n",
       "<table border=\"1\" class=\"dataframe\">\n",
       "  <thead>\n",
       "    <tr style=\"text-align: right;\">\n",
       "      <th></th>\n",
       "      <th>Имя</th>\n",
       "      <th>Возраст</th>\n",
       "      <th>Город</th>\n",
       "    </tr>\n",
       "  </thead>\n",
       "  <tbody>\n",
       "    <tr>\n",
       "      <th>0</th>\n",
       "      <td>Анна</td>\n",
       "      <td>25</td>\n",
       "      <td>Москва</td>\n",
       "    </tr>\n",
       "    <tr>\n",
       "      <th>1</th>\n",
       "      <td>Иван</td>\n",
       "      <td>30</td>\n",
       "      <td>СПб</td>\n",
       "    </tr>\n",
       "    <tr>\n",
       "      <th>2</th>\n",
       "      <td>Ольга</td>\n",
       "      <td>22</td>\n",
       "      <td>Казань</td>\n",
       "    </tr>\n",
       "  </tbody>\n",
       "</table>\n",
       "</div>"
      ],
      "text/plain": [
       "     Имя  Возраст   Город\n",
       "0   Анна       25  Москва\n",
       "1   Иван       30     СПб\n",
       "2  Ольга       22  Казань"
      ]
     },
     "metadata": {},
     "output_type": "display_data"
    }
   ],
   "source": [
    "display(df)"
   ]
  },
  {
   "cell_type": "code",
   "execution_count": null,
   "id": "5f7dd7e0-ae1e-4f61-8596-636c13eee334",
   "metadata": {},
   "outputs": [],
   "source": []
  }
 ],
 "metadata": {
  "kernelspec": {
   "display_name": "Python [conda env:base] *",
   "language": "python",
   "name": "conda-base-py"
  },
  "language_info": {
   "codemirror_mode": {
    "name": "ipython",
    "version": 3
   },
   "file_extension": ".py",
   "mimetype": "text/x-python",
   "name": "python",
   "nbconvert_exporter": "python",
   "pygments_lexer": "ipython3",
   "version": "3.12.7"
  }
 },
 "nbformat": 4,
 "nbformat_minor": 5
}
